{
  "nbformat": 4,
  "nbformat_minor": 0,
  "metadata": {
    "colab": {
      "name": "linalg_hw_2",
      "provenance": [],
      "collapsed_sections": [],
      "authorship_tag": "ABX9TyOzo2joVA7AMza9saEBJiqW",
      "include_colab_link": true
    },
    "kernelspec": {
      "name": "python3",
      "display_name": "Python 3"
    }
  },
  "cells": [
    {
      "cell_type": "markdown",
      "metadata": {
        "id": "view-in-github",
        "colab_type": "text"
      },
      "source": [
        "<a href=\"https://colab.research.google.com/github/eridanletalis/linalg/blob/master/linalg_hw_2.ipynb\" target=\"_parent\"><img src=\"https://colab.research.google.com/assets/colab-badge.svg\" alt=\"Open In Colab\"/></a>"
      ]
    },
    {
      "cell_type": "code",
      "metadata": {
        "id": "Oo4wKGvGnBh_",
        "colab_type": "code",
        "colab": {}
      },
      "source": [
        "import numpy as np"
      ],
      "execution_count": 0,
      "outputs": []
    },
    {
      "cell_type": "markdown",
      "metadata": {
        "id": "dyeL61Bi-1Im",
        "colab_type": "text"
      },
      "source": [
        "**Задания из обеих методичек найдёшь здесь ты.**\n",
        "\n"
      ]
    },
    {
      "cell_type": "markdown",
      "metadata": {
        "id": "5d7Njy0DnFHI",
        "colab_type": "text"
      },
      "source": [
        "Все задания рекомендуется делать вручную, затем проверяя полученные результаты с использованием numpy.\n",
        "\n",
        "__1.__ Установить, какие произведения матриц $AB$ и $BA$ определены, и найти размерности полученных матриц:\n",
        "\n",
        "   а) $A$ — матрица $4\\times 2$, $B$ — матрица $4\\times 2$;\n",
        "    \n",
        "   б) $A$ — матрица $2\\times 5$, $B$ — матрица $5\\times 3$;\n",
        "    \n",
        "   в) $A$ — матрица $8\\times 3$, $B$ — матрица $3\\times 8$;\n",
        "    \n",
        "   г) $A$ — квадратная матрица $4\\times 4$, $B$ — квадратная матрица $4\\times 4$.\n",
        "    \n"
      ]
    },
    {
      "cell_type": "markdown",
      "metadata": {
        "id": "Yq4bxSn2sN_d",
        "colab_type": "text"
      },
      "source": [
        "Решение. \n",
        "\n",
        "Мнемоническое правило, которое помогает лично мне: Если размерности двух матриц написать друг за другом, например, $m \\times n$, $n \\times k$, то, если \"внутренние\" размерности совпадают ($n,n$), то перемножение возможно и результирующа матрица будет иметь размерность \"внешних\" чисел.\n",
        "\n",
        "1. $AB:(4\\times2) (4\\times2)$ - невозможно, $BA: (4\\times2), (4\\times2$) - аналогично\n",
        "2. $AB:(2\\times5) (5\\times3$) - возмжно, результат ($2\\times3$), $BA:(5\\times3) (2\\times5$) невозможно.\n",
        "3. $AB$ возможно, результат $(8\\times8)$, $BA$ возможно, результат $(3\\times3)$\n",
        "4. Возможны оба варианта, резульат одинаков $(4\\times4)$"
      ]
    },
    {
      "cell_type": "markdown",
      "metadata": {
        "id": "Axc8Ff6ysONw",
        "colab_type": "text"
      },
      "source": [
        "__2.__ Найти сумму и произведение матриц $A=\\begin{pmatrix}\n",
        "1 & -2\\\\ \n",
        "3 & 0\n",
        "\\end{pmatrix}$ и $B=\\begin{pmatrix}\n",
        "4 & -1\\\\ \n",
        "0 & 5\n",
        "\\end{pmatrix}.$\n",
        "\n"
      ]
    },
    {
      "cell_type": "markdown",
      "metadata": {
        "id": "yZH4uLJAoS2K",
        "colab_type": "text"
      },
      "source": [
        "$A + B$ = $\\begin{pmatrix}\n",
        "1 +4 & -2 + (-1)\\\\ \n",
        "3 + 0 & 0 + 5\n",
        "\\end{pmatrix}$ = $\\begin{pmatrix}\n",
        "5 & -3\\\\ \n",
        "3 & 5\n",
        "\\end{pmatrix}$\n",
        "\n",
        "\n",
        "\n",
        "$A \\times B$ = $\\begin{pmatrix}\n",
        "1*4 + (-2)*0 & 1*(-1) + (-2)*5\\\\ \n",
        "3*4 + 0*0 & 3*(-1) + 0*5\n",
        "\\end{pmatrix}$ = $\\begin{pmatrix}\n",
        "4 & -11\\\\ \n",
        "12 & -3\n",
        "\\end{pmatrix}$"
      ]
    },
    {
      "cell_type": "code",
      "metadata": {
        "id": "ny6SmDc7sS1C",
        "colab_type": "code",
        "outputId": "b5e099cb-3713-488e-8f2a-9a9699e8a783",
        "colab": {
          "base_uri": "https://localhost:8080/",
          "height": 220
        }
      },
      "source": [
        "A = np.array([[1, -2],[3, 0]])\n",
        "B = np.array([[4, -1],[0, 5]])\n",
        "print(f\"Исходные матрицы \\n{A} и \\n{B}\")\n",
        "print(f\"Сумма матриц: \\n{A+B}\")\n",
        "print(f\"Произведение матриц:\\n{A@B}\")"
      ],
      "execution_count": 0,
      "outputs": [
        {
          "output_type": "stream",
          "text": [
            "Исходные матрицы \n",
            "[[ 1 -2]\n",
            " [ 3  0]] и \n",
            "[[ 4 -1]\n",
            " [ 0  5]]\n",
            "Сумма матриц: \n",
            "[[ 5 -3]\n",
            " [ 3  5]]\n",
            "Произведение матриц:\n",
            "[[  4 -11]\n",
            " [ 12  -3]]\n"
          ],
          "name": "stdout"
        }
      ]
    },
    {
      "cell_type": "markdown",
      "metadata": {
        "id": "OSAuMuuNsTDM",
        "colab_type": "text"
      },
      "source": [
        "__3.__ Из закономерностей сложения и умножения матриц на число можно сделать вывод, что матрицы одного размера образуют линейное пространство. Вычислить линейную комбинацию $3A-2B+4C$ для матриц $A=\\begin{pmatrix}\n",
        "1 & 7\\\\ \n",
        "3 & -6\n",
        "\\end{pmatrix}$, $B=\\begin{pmatrix}\n",
        "0 & 5\\\\ \n",
        "2 & -1\n",
        "\\end{pmatrix}$, $C=\\begin{pmatrix}\n",
        "2 & -4\\\\ \n",
        "1 & 1\n",
        "\\end{pmatrix}.$\n"
      ]
    },
    {
      "cell_type": "markdown",
      "metadata": {
        "id": "q_9U0IdhsZTN",
        "colab_type": "text"
      },
      "source": [
        "Резульататом будет матрица:\n",
        "$\\begin{pmatrix}\n",
        "3*1- 2 * 0 + 4 * 2 & 3*7 - 2*5 + 4 * (-4)\\\\ \n",
        "3*3 - 2*2 + 4*1 & 3*(-6) -2*(-1) + 4*1\n",
        "\\end{pmatrix}$\n",
        "=$\\begin{pmatrix}\n",
        "11 & -5\\\\\n",
        "9 & -12\n",
        "\\end{pmatrix}$"
      ]
    },
    {
      "cell_type": "code",
      "metadata": {
        "id": "PBFwjYqNsZbT",
        "colab_type": "code",
        "outputId": "67c51f27-d0c6-4eb7-d70e-e25760ec1903",
        "colab": {
          "base_uri": "https://localhost:8080/",
          "height": 239
        }
      },
      "source": [
        "A, B, C = np.array([[1,7],[3,-6]]),np.array([[0, 5],[2, -1]]),np.array([[2, -4],[1,1]])\n",
        "print(f\"Исходные матрицы A=\\n{A},\\n  B=\\n{B},\\n C=\\n{C}\")\n",
        "print(f\"Результат равен: \\n{3*A - 2*B + 4*C}\")"
      ],
      "execution_count": 0,
      "outputs": [
        {
          "output_type": "stream",
          "text": [
            "Исходные матрицы A=\n",
            "[[ 1  7]\n",
            " [ 3 -6]],\n",
            "  B=\n",
            "[[ 0  5]\n",
            " [ 2 -1]],\n",
            " C=\n",
            "[[ 2 -4]\n",
            " [ 1  1]]\n",
            "Результат равен: \n",
            "[[ 11  -5]\n",
            " [  9 -12]]\n"
          ],
          "name": "stdout"
        }
      ]
    },
    {
      "cell_type": "markdown",
      "metadata": {
        "id": "7Qbc68jpsZm1",
        "colab_type": "text"
      },
      "source": [
        "    \n",
        "__4.__ Дана матрица $A=\\begin{pmatrix}\n",
        "4 & 1\\\\ \n",
        "5 & -2\\\\ \n",
        "2 & 3\n",
        "\\end{pmatrix}$.\n",
        "Вычислить $AA^{T}$ и $A^{T}A$.\n"
      ]
    },
    {
      "cell_type": "markdown",
      "metadata": {
        "id": "ZE4-fpTSsbdf",
        "colab_type": "text"
      },
      "source": [
        "$A^{T} = \\begin{pmatrix}\n",
        "4 & 5 & 2\\\\\n",
        "1 & -2 & 3\n",
        "\\end{pmatrix}$ размерностью $(2\\times3)$\n",
        "\n",
        "Исходная матрица имеет размерность $(3\\times2)$. Операция $AA^{T}$ будет иметь резульата с размерностью $(3\\times3)$, \n",
        "\n",
        "операция $A^{T}A$ - $(2\\times2)$\n",
        "\n",
        "$AA^{T} = \\begin{pmatrix}\n",
        "4*4 + 1*1 & 4*5+1*(-2) & 4*2 + 3*1\\\\\n",
        "5*4 + (-2) * 1 & 5*5 + 2*2 & 5*2 + (-2) * 3\\\\\n",
        "2*4 + 3*1 & 5*2 + (-2)*3 & 2*2 + 3*3\n",
        "\\end{pmatrix} = \n",
        "\\begin{pmatrix}\n",
        "17&18&11\\\\\n",
        "18&29&4\\\\\n",
        "11&4&13\n",
        "\\end{pmatrix}$\n",
        "\n",
        "$A^{T}A = \\begin{pmatrix}\n",
        "4*4+5*5+2*2&1*4-5*2+3*2&\\\\\n",
        "1*4 -5*2 + 2*3&1*1+2*2+3*3\n",
        "\\end{pmatrix} = \n",
        "\\begin{pmatrix}\n",
        "45&0\\\\\n",
        "0&14\\\\\n",
        "\\end{pmatrix}$\n"
      ]
    },
    {
      "cell_type": "code",
      "metadata": {
        "id": "NI59OfO1sblQ",
        "colab_type": "code",
        "outputId": "4f582604-8e90-4049-d85e-ab7ac90e6c4b",
        "colab": {
          "base_uri": "https://localhost:8080/",
          "height": 146
        }
      },
      "source": [
        "A = np.array([[4,1], [5,-2], [2,3]])\n",
        "print(f\"Умножение А на А.Т \\n{A@A.T}\")\n",
        "print(f\"Умножение А.T на A \\n{A.T@A}\")"
      ],
      "execution_count": 0,
      "outputs": [
        {
          "output_type": "stream",
          "text": [
            "Умножение А на А.Т \n",
            "[[17 18 11]\n",
            " [18 29  4]\n",
            " [11  4 13]]\n",
            "Умножение А.T на A \n",
            "[[45  0]\n",
            " [ 0 14]]\n"
          ],
          "name": "stdout"
        }
      ]
    },
    {
      "cell_type": "markdown",
      "metadata": {
        "id": "1KCdY3zUsbxO",
        "colab_type": "text"
      },
      "source": [
        "\n",
        "__5*.__ Написать на Python функцию для перемножения двух произвольных матриц, не используя NumPy."
      ]
    },
    {
      "cell_type": "code",
      "metadata": {
        "id": "andLaLZO5TzT",
        "colab_type": "code",
        "colab": {}
      },
      "source": [
        "def m_dot(A, B):\n",
        "    s = 0.0     \n",
        "    tmp = []    \n",
        "    res = [] \n",
        "    if len(B) != len(A[0]): \n",
        "        print(\"Не совпадают размерности\")        \n",
        "    else:\n",
        "        cnt_row_A = len(A) #cnt_row_A\n",
        "        cnt_col_A = len(A[0]) #cnt_col_A, cnt_row_B  \n",
        "        cnt_col_B = len(B[0])  # cnt_col_B\n",
        "        for z in range(cnt_row_A):\n",
        "            for j in range(cnt_col_B):\n",
        "                for i in range(cnt_col_A):\n",
        "                   s = s + A[z][i] * B[i][j]\n",
        "                tmp.append(s)\n",
        "                s = 0.0\n",
        "            res.append(tmp)\n",
        "            tmp = []           \n",
        "    return res"
      ],
      "execution_count": 0,
      "outputs": []
    },
    {
      "cell_type": "code",
      "metadata": {
        "id": "9xgTJDPu5U9s",
        "colab_type": "code",
        "outputId": "666d13d4-0b23-4deb-b9e8-18fd7226e266",
        "colab": {
          "base_uri": "https://localhost:8080/",
          "height": 35
        }
      },
      "source": [
        "m_dot(A, A.T)"
      ],
      "execution_count": 0,
      "outputs": [
        {
          "output_type": "execute_result",
          "data": {
            "text/plain": [
              "[[17.0, 18.0, 11.0], [18.0, 29.0, 4.0], [11.0, 4.0, 13.0]]"
            ]
          },
          "metadata": {
            "tags": []
          },
          "execution_count": 50
        }
      ]
    },
    {
      "cell_type": "code",
      "metadata": {
        "id": "OXlTraAB5aBJ",
        "colab_type": "code",
        "outputId": "c1eaf973-50c6-4b1b-b49d-c4beab3568a8",
        "colab": {
          "base_uri": "https://localhost:8080/",
          "height": 35
        }
      },
      "source": [
        "m_dot(A.T, A)"
      ],
      "execution_count": 0,
      "outputs": [
        {
          "output_type": "execute_result",
          "data": {
            "text/plain": [
              "[[45.0, 0.0], [0.0, 14.0]]"
            ]
          },
          "metadata": {
            "tags": []
          },
          "execution_count": 51
        }
      ]
    },
    {
      "cell_type": "markdown",
      "metadata": {
        "id": "8klh8lN-5fX2",
        "colab_type": "text"
      },
      "source": [
        "__1.__ Вычислить определитель:\n",
        "\n",
        "   a)\n",
        "\n",
        "$$\\begin{vmatrix}\n",
        "sinx & -cosx\\\\ \n",
        "cosx & sinx\n",
        "\\end{vmatrix} = sin(x)^2 + cos(x)^2 = 1;$$\n",
        "\n",
        "   б)\n",
        "    \n",
        "$$\\begin{vmatrix}\n",
        "4 & 2 & 3\\\\ \n",
        "0 & 5 & 1\\\\ \n",
        "0 & 0 & 9\n",
        "\\end{vmatrix} = 4*5*9 = 180;$$\n",
        "    \n",
        "   в)\n",
        "\n",
        "$$\\begin{vmatrix}\n",
        "1 & 2 & 3\\\\ \n",
        "4 & 5 & 6\\\\ \n",
        "7 & 8 & 9\n",
        "\\end{vmatrix} = 1*5*9 + 4*8*3+2*6*7-7*5*3-4*2*9 - 8*6*1 = 0.$$\n",
        "\n"
      ]
    },
    {
      "cell_type": "code",
      "metadata": {
        "id": "jLUuICJn_aL4",
        "colab_type": "code",
        "outputId": "82ccfdbd-4225-4fd7-8871-71869c2d56f5",
        "colab": {
          "base_uri": "https://localhost:8080/",
          "height": 35
        }
      },
      "source": [
        "from numpy.linalg import det, matrix_rank, inv\n",
        "det(np.array([[np.sin(1), -np.cos(1)],[np.cos(1), np.sin(1)]]))"
      ],
      "execution_count": 0,
      "outputs": [
        {
          "output_type": "execute_result",
          "data": {
            "text/plain": [
              "1.0"
            ]
          },
          "metadata": {
            "tags": []
          },
          "execution_count": 56
        }
      ]
    },
    {
      "cell_type": "code",
      "metadata": {
        "id": "e5wFvH6dBIQl",
        "colab_type": "code",
        "outputId": "1fdf031a-6731-4c70-de02-2fd9556a2770",
        "colab": {
          "base_uri": "https://localhost:8080/",
          "height": 35
        }
      },
      "source": [
        "det(np.array([[4,2,3],[0,5,1],[0,0,9]]))"
      ],
      "execution_count": 0,
      "outputs": [
        {
          "output_type": "execute_result",
          "data": {
            "text/plain": [
              "180.0"
            ]
          },
          "metadata": {
            "tags": []
          },
          "execution_count": 57
        }
      ]
    },
    {
      "cell_type": "code",
      "metadata": {
        "id": "7J2pMWVaBQg1",
        "colab_type": "code",
        "outputId": "0ab5e2f1-e5a1-46a4-c795-00044ee80b1e",
        "colab": {
          "base_uri": "https://localhost:8080/",
          "height": 35
        }
      },
      "source": [
        "det(np.array([[1,2,3],[4,5,6],[7,8,9]]))"
      ],
      "execution_count": 0,
      "outputs": [
        {
          "output_type": "execute_result",
          "data": {
            "text/plain": [
              "0.0"
            ]
          },
          "metadata": {
            "tags": []
          },
          "execution_count": 58
        }
      ]
    },
    {
      "cell_type": "markdown",
      "metadata": {
        "id": "wP5jE79a_aWv",
        "colab_type": "text"
      },
      "source": [
        "\n",
        "__2.__ Определитель матрицы $A$ равен $4$. Найти:\n",
        "\n",
        "   а) $det(A^{2})=16 $ (Свойство 9, матрица должна быть квадратной);\n",
        "    \n",
        "   б) $det(A^{T})=4 $ (Свойство 1);\n",
        "    \n",
        "   в) $det(2A)=2^{(количество строк матрицы)}* 4$ (по свойству 2 + нужно учитывать, что каждая строка матрицы буте умножена на 2).   \n"
      ]
    },
    {
      "cell_type": "markdown",
      "metadata": {
        "id": "ybnZ2GEd_fhf",
        "colab_type": "text"
      },
      "source": [
        "__3.__  Доказать, что матрица\n",
        "\n",
        "$$\\begin{pmatrix}\n",
        "-2 & 7 & -3\\\\ \n",
        "4 & -14 & 6\\\\ \n",
        "-3 & 7 & 13\n",
        "\\end{pmatrix}$$\n",
        "   \n",
        "вырожденная.\n",
        "\n"
      ]
    },
    {
      "cell_type": "markdown",
      "metadata": {
        "id": "pVyXacI8_iwq",
        "colab_type": "text"
      },
      "source": [
        "Доказательство.\n",
        "\n",
        "Видно, что две строки матрицы будут равны между собой, если строку 1 домножить на -2. Следовательно, в матрице существуют линейно зависимые строки и её определитель (по свойству 6) равен нулю. Матрица с нулевым определителем называется вырожденной.\n",
        "\n",
        "\n",
        "$$\\begin{pmatrix}\n",
        "-2 & 7 & -3\\\\ \n",
        "4 & -14 & 6\\\\ \n",
        "-3 & 7 & 13\n",
        "\\end{pmatrix} = \\begin{pmatrix}\n",
        "-2 & 7 & -3\\\\ \n",
        "4 + (-2*2) & -14+(7*2) & 6 + (-3*2)\\\\ \n",
        "-3 & 7 & 13\n",
        "\\end{pmatrix} = \n",
        "\\begin{pmatrix}\n",
        "-2 & 7 & -3\\\\ \n",
        "-3 & 7 & 13 \\\\\n",
        "0 & 0 & 0\n",
        "\\end{pmatrix}$$"
      ]
    },
    {
      "cell_type": "code",
      "metadata": {
        "id": "3yJTXT_9_jUI",
        "colab_type": "code",
        "outputId": "d5ce2367-1be5-45e0-a094-3c3503ca6c3f",
        "colab": {
          "base_uri": "https://localhost:8080/",
          "height": 35
        }
      },
      "source": [
        "a = np.array([[-2,7,-3],\n",
        "             [4,-14,6],\n",
        "             [-3,7,13]])\n",
        "det(a)"
      ],
      "execution_count": 61,
      "outputs": [
        {
          "output_type": "execute_result",
          "data": {
            "text/plain": [
              "0.0"
            ]
          },
          "metadata": {
            "tags": []
          },
          "execution_count": 61
        }
      ]
    },
    {
      "cell_type": "markdown",
      "metadata": {
        "id": "N5-4F_Rt_jaa",
        "colab_type": "text"
      },
      "source": [
        "__4.__ Найти ранг матрицы:\n",
        "\n",
        "   а) $\\begin{pmatrix}\n",
        "1 & 2 & 3\\\\ \n",
        "1 & 1 & 1\\\\ \n",
        "2 & 3 & 4\n",
        "\\end{pmatrix};$\n",
        "\n",
        "   б) $\\begin{pmatrix}\n",
        "0 & 0 & 2 & 1\\\\ \n",
        "0 & 0 & 2 & 2\\\\ \n",
        "0 & 0 & 4 & 3\\\\ \n",
        "2 & 3 & 5 & 6\n",
        "\\end{pmatrix}.$"
      ]
    },
    {
      "cell_type": "markdown",
      "metadata": {
        "id": "tRjW4-23_kzj",
        "colab_type": "text"
      },
      "source": [
        ""
      ]
    },
    {
      "cell_type": "markdown",
      "metadata": {
        "colab_type": "text",
        "id": "FwRHgYfBHrAq"
      },
      "source": [
        "\n",
        "Будем выполнять операции, не менаяющие ранга матрицы.\n",
        "\n",
        "\n",
        "   а) Вычтем из третьго столбца сначала первый, затем второй. \n",
        "   \n",
        "$$\\begin{pmatrix}\n",
        "1 & 2 & 3\\\\ \n",
        "1 & 1 & 1\\\\ \n",
        "2-1-1 & 3-2-1 & 4-3-1\n",
        "\\end{pmatrix}=\\begin{pmatrix}\n",
        "1 & 2 & 3\\\\ \n",
        "1 & 1 & 1\\\\ \n",
        "0 & 0 & 0\n",
        "\\end{pmatrix};$$ Нулевую строку можно вычеркнуть. Осталось две линейно независимые строки, ранг равен 2\n",
        "\n",
        "\n",
        "\n",
        " б) Из третьей строки вычтем первую и вторую, нулевую вычеркнем. \n",
        "\n",
        "$$\\begin{pmatrix}\n",
        "0 & 0 & 2 & 1\\\\ \n",
        "0 & 0 & 2 & 2\\\\ \n",
        "0 & 0 & 4 -2 -2& 3-1-2\\\\ \n",
        "2 & 3 & 5 & 6\n",
        "\\end{pmatrix}=\n",
        "\\begin{pmatrix}\n",
        "0 & 0 & 2 & 1\\\\ \n",
        "0 & 0 & 2 & 2\\\\ \n",
        "2 & 3 & 5 & 6\n",
        "\\end{pmatrix};$$\n",
        "Осталось три линейно независимые строки, ранг равен 3"
      ]
    },
    {
      "cell_type": "code",
      "metadata": {
        "id": "uwhiBgkL_lGr",
        "colab_type": "code",
        "colab": {
          "base_uri": "https://localhost:8080/",
          "height": 35
        },
        "outputId": "f14309e2-8dd7-49f5-e1f7-c68b2de7a3a4"
      },
      "source": [
        "a = np.array([[1, 2, 3],\n",
        "              [1, 1, 1],\n",
        "              [2, 3, 4]])\n",
        "matrix_rank(a)"
      ],
      "execution_count": 62,
      "outputs": [
        {
          "output_type": "execute_result",
          "data": {
            "text/plain": [
              "2"
            ]
          },
          "metadata": {
            "tags": []
          },
          "execution_count": 62
        }
      ]
    },
    {
      "cell_type": "code",
      "metadata": {
        "id": "2Hcdopn0HMYJ",
        "colab_type": "code",
        "colab": {
          "base_uri": "https://localhost:8080/",
          "height": 35
        },
        "outputId": "0374b01e-a254-426a-8b99-57eac9f19070"
      },
      "source": [
        "b = np.array([[0, 0, 2, 1],\n",
        "              [0, 0, 2, 2],\n",
        "              [0, 0, 4, 3],\n",
        "              [2, 3, 5, 6]])\n",
        "matrix_rank(b)"
      ],
      "execution_count": 63,
      "outputs": [
        {
          "output_type": "execute_result",
          "data": {
            "text/plain": [
              "3"
            ]
          },
          "metadata": {
            "tags": []
          },
          "execution_count": 63
        }
      ]
    }
  ]
}