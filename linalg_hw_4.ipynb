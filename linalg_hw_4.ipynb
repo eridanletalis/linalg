{
  "nbformat": 4,
  "nbformat_minor": 0,
  "metadata": {
    "colab": {
      "name": "linalg_hw_4.ipynb",
      "provenance": [],
      "collapsed_sections": [],
      "authorship_tag": "ABX9TyNL30yf/ANB5v0aN8Be+dBl",
      "include_colab_link": true
    },
    "kernelspec": {
      "name": "python3",
      "display_name": "Python 3"
    }
  },
  "cells": [
    {
      "cell_type": "markdown",
      "metadata": {
        "id": "view-in-github",
        "colab_type": "text"
      },
      "source": [
        "<a href=\"https://colab.research.google.com/github/eridanletalis/linalg/blob/master/linalg_hw_4.ipynb\" target=\"_parent\"><img src=\"https://colab.research.google.com/assets/colab-badge.svg\" alt=\"Open In Colab\"/></a>"
      ]
    },
    {
      "cell_type": "code",
      "metadata": {
        "id": "k5fGfsqK0SOk",
        "colab_type": "code",
        "colab": {}
      },
      "source": [
        ""
      ],
      "execution_count": null,
      "outputs": []
    },
    {
      "cell_type": "markdown",
      "metadata": {
        "id": "4_FIKANT0bo0",
        "colab_type": "text"
      },
      "source": [
        "__1.__\n",
        "$$\\begin{cases}\n",
        "x_{1}+x_{2}-x_{3}-2x_{4}=0, \\\\\n",
        "2x_{1}+x_{2}-x_{3}+x_{4}=-2, \\\\\n",
        "x_{1}+x_{2}-3x_{3}+x_{4}=4.\n",
        "\\end{cases}$$"
      ]
    },
    {
      "cell_type": "markdown",
      "metadata": {
        "id": "ZKC5-Sos0g8-",
        "colab_type": "text"
      },
      "source": [
        "$$\n",
        "\\begin{pmatrix}\n",
        "\\left.\\begin{matrix}\n",
        "1 & 1 & -1 & -2\\\\ \n",
        "2 & 1 & -1 & 1\\\\ \n",
        "1 & 1 & -3 & 1\n",
        "\\end{matrix}\\right|\n",
        "\\begin{matrix}\n",
        "0\\\\ \n",
        "-2\\\\\n",
        "4\n",
        "\\end{matrix}\n",
        "\\end{pmatrix}\\rightarrow\n",
        "\\begin{pmatrix}\n",
        "\\left.\\begin{matrix}\n",
        "1 & 1 & -1 & -2\\\\ \n",
        "0 & -1 & 1 & 5\\\\ \n",
        "0 & 0 & -2 & 3\n",
        "\\end{matrix}\\right|\n",
        "\\begin{matrix}\n",
        "0\\\\ \n",
        "-2\\\\\n",
        "4\n",
        "\\end{matrix}\n",
        "\\end{pmatrix}.\n",
        "$$\n",
        "\n",
        "Число неизвестных системы больше числа уравнений. В этом случае система называется неопределённой. \n",
        "Запишем получившуюся в результате преобразований систему.\n",
        "$$\\begin{cases}\n",
        "x_{1}+x_{2}-x_{3}-2x_{4}=0, \\\\\n",
        "0\\cdot x_{1}-x_{2}+x_{3}+5x_{4}=-2, \\\\\n",
        "0\\cdot x_{1}+0\\cdot x_{2}-2x_{3}+3x_{4}=4.\n",
        "\\end{cases}$$\n",
        "Найдём переменную $x_{3}$ из последнего уравнения:\n",
        "$$\n",
        "x_{3} = -\\frac {4-3x_{4}} {-2} = -2 + \\frac {3}{2}x_{4}\\\\\n",
        "$$\n",
        "Далее через $x_{4}$ выразим $x_{2}$:\n",
        "$$\n",
        "-x_{2} = -2 -x_{3} - 5x_{4},\\\\\n",
        "-x_{2} = -2 - \\frac{3}{2}x_{4}+2-5x_{4},\\\\\n",
        "-x_{2} = - \\frac{13}{2}x_{4},\\\\\n",
        "x_{2} = \\frac{13}{2}x_{4}.\n",
        "$$\n",
        "И запишем $x_{1}$ через остальные уравнения.\n",
        "$$\n",
        "x_{1} = -x_{2} + x_{3} + 2x_{4},\\\\\n",
        "x_{1} = -  \\frac{13}{2}x_{4} -2 + \\frac {3}{2}x_{4} + 2x_{4},\\\\\n",
        "x_{1} = -3x_{4} - 2.\n",
        "$$\n",
        "Итоговый вектор будет иметь вид:\n",
        "$$\n",
        "X = \\begin{pmatrix}\n",
        " - 2 -3x_{4} \\\\\n",
        "\\frac{13}{2}x_{4}\\\\\n",
        "-2 + \\frac {3}{2}x_{4}\\\\\n",
        "x_{4}\n",
        "\\end{pmatrix}.\n",
        "$$\n",
        "\n"
      ]
    },
    {
      "cell_type": "markdown",
      "metadata": {
        "id": "eiw9XbXS0hTr",
        "colab_type": "text"
      },
      "source": [
        "__2.__ Проверить на совместность и выяснить, сколько решений будет иметь система линейных уравнений:\n",
        "\n",
        "   а) $\\begin{cases}\n",
        "3x_{1}-x_{2}+x_{3}=4, \\\\\n",
        "2x_{1}-5x_{2}-3x_{3}=-17, \\\\\n",
        "x_{1}+x_{2}-x_{3}=0;\n",
        "\\end{cases}$\n",
        "\n",
        "Путём преобразований выясняем, что $rank\\tilde{A}=rank A = n = 3$, преобразования по методу Гаусса привели к матрице следующего вида:\n",
        "$$\n",
        "\\begin{pmatrix}\n",
        "\\left.\\begin{matrix}\n",
        "1 & 1 & -3\\\\\n",
        "0 & -5 & 10\\\\\n",
        "0 & 0 & -\\frac{58}{4} \n",
        "\\end{matrix}\n",
        "\\right|\\begin{matrix}\n",
        "4\\\\-8\\\\-\\frac{39}{4}\n",
        "\\end{matrix}\n",
        "\\end{pmatrix}\n",
        "$$\n",
        "Таким образом, система определена, имеет единственное решение."
      ]
    },
    {
      "cell_type": "markdown",
      "metadata": {
        "id": "8IBxtcX_0jFj",
        "colab_type": "text"
      },
      "source": [
        "    \n",
        "   б) $\\begin{cases}\n",
        "2x_{1}-4x_{2}+6x_{3}=1, \\\\\n",
        "x_{1}-2x_{2}+3x_{3}=-2, \\\\\n",
        "3x_{1}-6x_{2}+9x_{3}=5;\n",
        "\\end{cases}$\n",
        "    \n",
        "Видно, что все строчки матрицы $A$ имеют линейную зависимость и её ранг равен 1, а ранг расширенной матрицы будет равен 3. Таким образом, система несовместна.  "
      ]
    },
    {
      "cell_type": "markdown",
      "metadata": {
        "id": "pUeJ6OtS0lB0",
        "colab_type": "text"
      },
      "source": [
        "   в) $\\begin{cases}\n",
        "x_{1}+2x_{2}+5x_{3}=4, \\\\\n",
        "3x_{1}+x_{2}-8x_{3}=-2. \n",
        "\\end{cases}$\n",
        "\n",
        "Строки матрицы не имеют линейной зависимости, ранг основной будет равен двум. Ранг расширенный также будет равен двум. Т.к. ранги равны, то решения будут, но, т.к. число неизвестных больше ранга, количество решений будет бесконечным."
      ]
    },
    {
      "cell_type": "markdown",
      "metadata": {
        "id": "ZlrKEc1P0mhB",
        "colab_type": "text"
      },
      "source": [
        "\n",
        "__3.__ Проверить на совместность и выяснить, сколько решений будет иметь система линейных уравнений, заданная расширенной матрицей\n",
        "\n",
        "$$\\tilde{A}=\\begin{pmatrix}\n",
        "\\left.\\begin{matrix}\n",
        "1 & 3 & -2 & 4\\\\ \n",
        "0 & 5 & 0 & 1\\\\ \n",
        "0 & 0 & 3 & 0\\\\ \n",
        "0 & 0 & 0 & 2\n",
        "\\end{matrix}\\right|\n",
        "\\begin{matrix}\n",
        "3\\\\ \n",
        "2\\\\\n",
        "4\\\\\n",
        "1\n",
        "\\end{matrix}\n",
        "\\end{pmatrix}.$$\n"
      ]
    },
    {
      "cell_type": "markdown",
      "metadata": {
        "id": "It2IB05DaZNm",
        "colab_type": "text"
      },
      "source": [
        "Попробуем получить единицы на главной диагонали.\n",
        "$$\\tilde{A}=\\begin{pmatrix}\n",
        "\\left.\\begin{matrix}\n",
        "1 & 3 & -2 & 4\\\\ \n",
        "0 & 5 & 0 & 1\\\\ \n",
        "0 & 0 & 3 & 0\\\\ \n",
        "0 & 0 & 0 & 2\n",
        "\\end{matrix}\\right|\n",
        "\\begin{matrix}\n",
        "3\\\\ \n",
        "2\\\\\n",
        "4\\\\\n",
        "1\n",
        "\\end{matrix}\n",
        "\\end{pmatrix}\\rightarrow\\begin{pmatrix}\n",
        "\\left.\\begin{matrix}\n",
        "1 & 3 & -2 & 4\\\\ \n",
        "0 & 1 & 0 & \\frac{1}{5}\\\\ \n",
        "0 & 0 & 1 & 0\\\\ \n",
        "0 & 0 & 0 & 1\n",
        "\\end{matrix}\\right|\n",
        "\\begin{matrix}\n",
        "3\\\\ \n",
        "\\frac{2}{5}\\\\\n",
        "\\frac{4}{3}\\\\\n",
        "\\frac{1}{2}\n",
        "\\end{matrix}\n",
        "\\end{pmatrix}$$\n",
        "Видно, что ранг основнйо и расширенной матрицы равны 4, что равно число неизвестных. Система совместна и имеет единственное решение:\n",
        "$x_{4} = \\frac{1}{2}; x_{3} = \\frac{4}{3}; x_{2} = \\frac{2}{5}-\\frac{1}{10} =  \\frac{3}{10};$\n",
        "\n",
        "$x_{1} = 3 - 4\\frac{1}{2}+2\\frac{4}{3}-3\\frac{3}{10}=\\frac{83}{30}.\n",
        "$"
      ]
    },
    {
      "cell_type": "markdown",
      "metadata": {
        "id": "Udk3VwnD0n6h",
        "colab_type": "text"
      },
      "source": [
        "\n",
        "__4.__ Дана система линейных уравнений, заданная расширенной матрицей\n",
        "\n",
        "$$\\tilde{A}=\\begin{pmatrix}\n",
        "\\left.\\begin{matrix}\n",
        "1 & 2 & 3\\\\ \n",
        "4 & 5 & 6\\\\ \n",
        "7 & 8 & 9\n",
        "\\end{matrix}\\right|\n",
        "\\begin{matrix}\n",
        "a\\\\ \n",
        "b\\\\\n",
        "c\n",
        "\\end{matrix}\n",
        "\\end{pmatrix}.$$\n",
        "\n",
        "Найти соотношение между параметрами $a$, $b$ и $c$, при которых система является несовместной."
      ]
    },
    {
      "cell_type": "markdown",
      "metadata": {
        "id": "SMua1tNujP9-",
        "colab_type": "text"
      },
      "source": [
        "Выполним элементарные преобразования для приведения матрицы к диагональному виду.\n",
        "$$\\tilde{A}=\\begin{pmatrix}\n",
        "\\left.\\begin{matrix}\n",
        "1 & 2 & 3\\\\ \n",
        "4 & 5 & 6\\\\ \n",
        "7 & 8 & 9\n",
        "\\end{matrix}\\right|\n",
        "\\begin{matrix}\n",
        "a\\\\ \n",
        "b\\\\\n",
        "c\n",
        "\\end{matrix}\n",
        "\\end{pmatrix}\\rightarrow\n",
        "\\begin{pmatrix}\n",
        "\\left.\\begin{matrix}\n",
        "1 & 2 & 3\\\\ \n",
        "0 & -3 & -6\\\\ \n",
        "0 & -6 & -12\n",
        "\\end{matrix}\\right|\n",
        "\\begin{matrix}\n",
        "a\\\\ \n",
        "-4a + b\\\\\n",
        "-7a + c\n",
        "\\end{matrix}\n",
        "\\end{pmatrix}\n",
        "$$\n",
        "Ко второй строке прибавили первую, умноженную на -4.\n",
        "Ко третьей строке прибавили первую, умноженную на -7.\n",
        "\n",
        "$$\\begin{pmatrix}\n",
        "\\left.\\begin{matrix}\n",
        "1 & 2 & 3\\\\ \n",
        "0 & -3 & -6\\\\ \n",
        "0 & -6 & -12\n",
        "\\end{matrix}\\right|\n",
        "\\begin{matrix}\n",
        "a\\\\ \n",
        "-4a + b\\\\\n",
        "-7a + c\n",
        "\\end{matrix}\n",
        "\\end{pmatrix}\\rightarrow\n",
        "\\begin{pmatrix}\n",
        "\\left.\\begin{matrix}\n",
        "1 & 2 & 3\\\\ \n",
        "0 & -3 & -6\\\\ \n",
        "0 & 0 & 0\n",
        "\\end{matrix}\\right|\n",
        "\\begin{matrix}\n",
        "a\\\\ \n",
        "-4a + b\\\\\n",
        "2*(-4a + b) + (-7a + c)\n",
        "\\end{matrix}\n",
        "\\end{pmatrix}.\n",
        "$$\n",
        "Чтобы система была несовместна, выражение $2*(-4a + b) + (-7a + c)$ должно быть отличным от нуля.\n",
        "Найдём, когда оно равно нулю:\n",
        "$$\n",
        "2*(-4a + b) + (-7a + c) = -8a+2b-7a+c = -15a+2b+c = 0.$$\n",
        "Отсюда для $c = 15a+2b$. \n",
        "\n",
        "Получается, что матрица несовместна, когда ${c}$ отличен от предыдущего равенства. "
      ]
    },
    {
      "cell_type": "markdown",
      "metadata": {
        "id": "bugQyY-3lF_e",
        "colab_type": "text"
      },
      "source": [
        ""
      ]
    },
    {
      "cell_type": "markdown",
      "metadata": {
        "id": "ZBi7FV66fPKf",
        "colab_type": "text"
      },
      "source": [
        "__1.__ Решить систему уравнений методом Крамера:\n",
        "\n",
        "   а) $\\begin{cases}\n",
        "x_{1}-2x_{2}=1 \\\\\n",
        "3x_{1}-4x_{2}=7\n",
        "\\end{cases}$\n",
        "    \n",
        "\n"
      ]
    },
    {
      "cell_type": "markdown",
      "metadata": {
        "id": "qUoYVuhqmIkZ",
        "colab_type": "text"
      },
      "source": [
        " Для решения методом Крамера найдём определитель основной матрицы.\n",
        " $$\n",
        "|A| = \\begin{vmatrix}\n",
        "1&-2\\\\\n",
        "3&-4\n",
        "\\end{vmatrix} = -4+6 = 2\n",
        " $$\n",
        " Для переменной $x_{1} =\\frac {detA_{1}}{2}$, для переменной $x_{2} = \\frac{detA_{2}}{2}$.\n",
        "\n",
        " $$\n",
        "|A_{1}| = \\begin{vmatrix}\n",
        "1&-2\\\\\n",
        "7&-4\n",
        "\\end{vmatrix} = -4+14 = 10, x_{1} = 5\n",
        " $$\n",
        "\n",
        " $$\n",
        "|A| = \\begin{vmatrix}\n",
        "1&1\\\\\n",
        "3&7\n",
        "\\end{vmatrix} = 7-3 = 4, x_{2} = 2\n",
        " $$\n"
      ]
    },
    {
      "cell_type": "markdown",
      "metadata": {
        "id": "TOrzPTv5mIyd",
        "colab_type": "text"
      },
      "source": [
        "  б) $\\begin{cases}\n",
        "2x_{1}-x_{2}+5x_{3}=10 \\\\\n",
        "x_{1}+x_{2}-3x_{3}=-2 \\\\\n",
        "2x_{1}+4x_{2}+x_{3}=1\n",
        "\\end{cases}$"
      ]
    },
    {
      "cell_type": "markdown",
      "metadata": {
        "id": "34_NSeevoAhk",
        "colab_type": "text"
      },
      "source": [
        " Для решения методом Крамера найдём определитель основной матрицы.\n",
        " $$\n",
        "|A| = \\begin{vmatrix}\n",
        "2&-1&5\\\\\n",
        "1&1&-3\\\\\n",
        "2&4&1\n",
        "\\end{vmatrix} = 43.\n",
        " $$\n",
        " Для переменной $x_{1} =\\frac {detA_{1}}{43}$, для переменной $x_{2} = \\frac{detA_{2}}{43}$, для $x_{3} = \\frac{detA_{3}}{43}$.\n",
        "\n",
        " $$\n",
        "|A_{1}| = \\begin{vmatrix}\n",
        "10&-1&5\\\\\n",
        "-2&1&-3\\\\\n",
        "1&4&1\n",
        "\\end{vmatrix} = 86. x_{1} = 2.\n",
        " $$\n",
        "\n",
        " $$\n",
        "|A_{1}| = \\begin{vmatrix}\n",
        "2&10&5\\\\\n",
        "1&-2&-3\\\\\n",
        "2&1&1\n",
        "\\end{vmatrix} = -43. x_{2} = -1\n",
        " $$\n",
        "\n",
        "  $$\n",
        "|A_{1}| = \\begin{vmatrix}\n",
        "2&-1&10\\\\\n",
        "1&1&-2\\\\\n",
        "2&4&1\n",
        "\\end{vmatrix} = 43. x_{3} = 1\n",
        " $$\n"
      ]
    }
  ]
}