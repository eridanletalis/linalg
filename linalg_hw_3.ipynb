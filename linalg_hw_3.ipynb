{
  "nbformat": 4,
  "nbformat_minor": 0,
  "metadata": {
    "colab": {
      "name": "linalg_hw_3",
      "provenance": [],
      "collapsed_sections": [],
      "authorship_tag": "ABX9TyO4xxgt5ZwXO/Uz2ywBIUKr",
      "include_colab_link": true
    },
    "kernelspec": {
      "name": "python3",
      "display_name": "Python 3"
    }
  },
  "cells": [
    {
      "cell_type": "markdown",
      "metadata": {
        "id": "view-in-github",
        "colab_type": "text"
      },
      "source": [
        "<a href=\"https://colab.research.google.com/github/eridanletalis/linalg/blob/master/linalg_hw_3.ipynb\" target=\"_parent\"><img src=\"https://colab.research.google.com/assets/colab-badge.svg\" alt=\"Open In Colab\"/></a>"
      ]
    },
    {
      "cell_type": "code",
      "metadata": {
        "id": "yBDg8akyZV1a",
        "colab_type": "code",
        "colab": {}
      },
      "source": [
        ""
      ],
      "execution_count": 0,
      "outputs": []
    },
    {
      "cell_type": "markdown",
      "metadata": {
        "id": "Cdi3q-5LRr93",
        "colab_type": "text"
      },
      "source": [
        "__1.__ Найти собственные векторы и собственные значения для линейного оператора, заданного матрицей\n",
        "\n",
        "$$\n",
        "A = \\begin{pmatrix}\n",
        "-1 & -6 \\\\\n",
        "2 & 6\n",
        "\\end{pmatrix}\n",
        "$$\n",
        "\n",
        "Векторы коэффициентов разложения векторов $g_i$ по базису задают столбцы матрицы линейного оператора. Тогда базистые векторы преобразуются таким образом:\n",
        "$$\n",
        "Ae_1 = 1 \\cdot e_{1} + 0 \\cdot e_{2} = e_{1},\n",
        "Ae_{2} = e_{1} + e_{2}\n",
        "$$\n",
        "Найдём собственные значения линейного оператора, составив характеристическое уравнение\n",
        "$$\n",
        "\\begin{vmatrix}\n",
        "-1 - \\lambda & -6 \\\\\n",
        "2 &6-\\lambda\n",
        "\\end{vmatrix} = 0\n",
        "$$\n",
        "$$\n",
        "(-1-\\lambda)(6-\\lambda) - (-2\\cdot6) = 0\n",
        "$$\n",
        "$$\n",
        "-6+\\lambda-6\\lambda + {\\lambda}^{2} + 12 = 0\n",
        "$$\n",
        "$$\n",
        "{\\lambda}^{2}-5\\lambda+6=0\n",
        "$$\n",
        "$$\n",
        "\\Delta = 25 - 24 = 1, \\lambda_{1} = 2, \\lambda_{2} = 3\n",
        "$$\n"
      ]
    },
    {
      "cell_type": "markdown",
      "metadata": {
        "id": "_8uW26YXCG1D",
        "colab_type": "text"
      },
      "source": [
        "Найдём собственный вектор вида $\\begin{pmatrix}x_{1}\\\\x_{2}\\end{pmatrix}$ Получим\n",
        "\n",
        "$$\n",
        "\\begin{pmatrix}\n",
        "-1 & -6 \\\\\n",
        "2 & 6\n",
        "\\end{pmatrix}\\begin{pmatrix}\n",
        "x_{1} \\\\ x_{2} \\end{pmatrix} =\n",
        "\\lambda\\begin{pmatrix}x_{1} \\\\ x_{2} \\end{pmatrix}\n",
        "$$\n",
        "\n",
        "$$\\begin{cases}\n",
        "-x_{1}-6x_{2}= 2x_{1}, \\\\\n",
        "2x_{1}+6x_{2}= 2x_{2}.\n",
        "\\end{cases}$$\n",
        "\n",
        "Выполним преобразование первого уравнения\n",
        "$$\n",
        "6x_{2} = -3x_{1}, -2x_{2} = x_{1}\n",
        "$$\n",
        "Подставим во второе\n",
        "$$\n",
        "2x_1-3x_1 = 2x_2, x_{1} = -2x_{2}\n",
        "$$\n",
        "Отсюда следуюет, что точных числовых значений нет, но есть правило, что $x_{1}$ должен быть вдвое больше $x_{2}$, взятым с противоположным знаком.\n",
        "Можно записать первую часть ответа в виде <strong> $\\lambda = 2, x=\\begin{pmatrix} -2x_{2}\\\\x_{2}\\end{pmatrix}$. </strong> \n",
        "\n",
        "При $\\lambda = 3 $ решение аналогично, ответ <strong> $\\lambda = 3, x=\\begin{pmatrix} -\\frac{3}{2}x_{2}\\\\x_{2}\\end{pmatrix}$. </strong> \n"
      ]
    },
    {
      "cell_type": "code",
      "metadata": {
        "id": "4w4pGIMEV_Rn",
        "colab_type": "code",
        "colab": {}
      },
      "source": [
        "import numpy as np\n",
        "np.set_printoptions(precision=2, suppress=True)"
      ],
      "execution_count": 0,
      "outputs": []
    },
    {
      "cell_type": "code",
      "metadata": {
        "id": "qSdM5RufWAkq",
        "colab_type": "code",
        "outputId": "29afb5e3-10ed-48ef-a380-0722b6b233a1",
        "colab": {
          "base_uri": "https://localhost:8080/",
          "height": 73
        }
      },
      "source": [
        "a = np.array([[-1, -6], [2, 6]])\n",
        "\n",
        "print(f'Матрица A:\\n{a}')"
      ],
      "execution_count": 8,
      "outputs": [
        {
          "output_type": "stream",
          "text": [
            "Матрица A:\n",
            "[[-1 -6]\n",
            " [ 2  6]]\n"
          ],
          "name": "stdout"
        }
      ]
    },
    {
      "cell_type": "code",
      "metadata": {
        "id": "hcdMl0uicrqw",
        "colab_type": "code",
        "outputId": "9daa78f0-2db8-4b69-ec72-a6798461e626",
        "colab": {
          "base_uri": "https://localhost:8080/",
          "height": 54
        }
      },
      "source": [
        "print(f\"Проверка для лямбда = 2 {[-3,1.5]} - > {a@np.array([-3,1.5])}\")\n",
        "print(f\"Проверка для лямбда = 3 {[-3/2,1]} - > {a@np.array([-3/2,1])}\")"
      ],
      "execution_count": 3,
      "outputs": [
        {
          "output_type": "stream",
          "text": [
            "Проверка для лямбда = 2 [-3, 1.5] - > [-6.  3.]\n",
            "Проверка для лямбда = 3 [-1.5, 1] - > [-4.5  3. ]\n"
          ],
          "name": "stdout"
        }
      ]
    },
    {
      "cell_type": "markdown",
      "metadata": {
        "id": "WN-kV-a2hKVU",
        "colab_type": "text"
      },
      "source": [
        "__2.__ Дан оператор поворота на 180 градусов, задаваемый матрицей \n",
        "\n",
        "$$A=\\begin{pmatrix}\n",
        "-1 & 0\\\\ \n",
        "0 & -1\n",
        "\\end{pmatrix}.$$\n",
        "\n",
        "Показать, что __любой__ вектор является для него собственным."
      ]
    },
    {
      "cell_type": "markdown",
      "metadata": {
        "id": "m_rPiySi8338",
        "colab_type": "text"
      },
      "source": [
        "Возьмём произвольный вектор $x = \\begin{pmatrix} x_1 \\\\ x_2 \\end{pmatrix}$\n",
        "\n",
        "Умножим вектор справа на матрицу $A$. По определению собственных векторов, в результате матричного умножения мы должны получить вектор $\\lambda\\begin{pmatrix}x_1\\\\x_2\\end{pmatrix}$ какие бы числа $x_1, x_2$ мы не взяли.\n",
        "\n",
        "В результате умножения получаем следующее:\n",
        "$$\n",
        "\\begin{pmatrix}\n",
        "-1 \\cdot x_1 + 0 \\cdot x_2 \\\\\n",
        "0 \\cdot x_1 + (-1) \\cdot x_2\n",
        "\\end{pmatrix} = \n",
        "\\begin{pmatrix}\n",
        "-x_1 \\\\ -x_2\n",
        "\\end{pmatrix} = \n",
        "-1 \\cdot \\begin{pmatrix}\n",
        "x_1 \\\\ x_2\n",
        "\\end{pmatrix}\n",
        "$$\n",
        "\n",
        "Очевидно, что мы вернулись к исходному вектору, умноженному на $\\lambda = -1$. Таким образом, искомое показано."
      ]
    },
    {
      "cell_type": "markdown",
      "metadata": {
        "id": "Z1WFDLqqAZvu",
        "colab_type": "text"
      },
      "source": [
        "__3.__ Пусть линейный оператор задан матрицей\n",
        "\n",
        "$$A=\\begin{pmatrix}\n",
        "1 & 1\\\\ \n",
        "-1 & 3\n",
        "\\end{pmatrix}.$$\n",
        "\n",
        "Установить, является ли вектор $x=(1,1)$ собственным вектором этого линейного оператора."
      ]
    },
    {
      "cell_type": "markdown",
      "metadata": {
        "id": "Ey3jNXcnAc3b",
        "colab_type": "text"
      },
      "source": [
        "Для того, чтобы это проверить, умножим $x на A$ справа и посмотрим на результат.\n",
        "\n",
        "$$Ax=\\begin{pmatrix}\n",
        "1 & 1\\\\ \n",
        "-1 & 3\n",
        "\\end{pmatrix}\n",
        "\\begin{pmatrix}\n",
        "1 \\\\ \n",
        "1\n",
        "\\end{pmatrix} = \\begin{pmatrix}\n",
        "1*1 + 1*1\\\\ \n",
        "-1*1 + 3*1\n",
        "\\end{pmatrix} = \\begin{pmatrix}\n",
        "2\\\\\n",
        "2\n",
        "\\end{pmatrix}.$$\n",
        "Полученный вектор равен исходному, умноженному на $\\lambda = 2$, таким образом, вектор $x$ является собственным вектором оператора $A$."
      ]
    },
    {
      "cell_type": "code",
      "metadata": {
        "id": "NIy54zfkAbzL",
        "colab_type": "code",
        "colab": {
          "base_uri": "https://localhost:8080/",
          "height": 36
        },
        "outputId": "9d2a8c13-cac0-4248-f34c-415580c1dc4a"
      },
      "source": [
        "a = np.array([[1, 1], [-1, 3]])\n",
        "x = np.array([1, 1])\n",
        "\n",
        "print(a@x)"
      ],
      "execution_count": 6,
      "outputs": [
        {
          "output_type": "stream",
          "text": [
            "[2 2]\n"
          ],
          "name": "stdout"
        }
      ]
    },
    {
      "cell_type": "markdown",
      "metadata": {
        "id": "fJnQ8bHQAfWH",
        "colab_type": "text"
      },
      "source": [
        "__4.__ Пусть линейный оператор задан матрицей\n",
        "\n",
        "$$A=\\begin{pmatrix}\n",
        "0 & 3 & 0\\\\ \n",
        "3 & 0 & 0\\\\\n",
        "0 & 0 & 3\n",
        "\\end{pmatrix}.$$\n",
        "\n",
        "Установить, является ли вектор $x=(3, -3, -4)$ собственным вектором этого линейного оператора."
      ]
    },
    {
      "cell_type": "markdown",
      "metadata": {
        "id": "lwJ7sSNKAhTm",
        "colab_type": "text"
      },
      "source": [
        "Проверим аналогично другим задачам.\n",
        "\n",
        "$$Ax=\\begin{pmatrix}\n",
        "0 & 3 & 0\\\\ \n",
        "3 & 0 & 0\\\\\n",
        "0 & 0 & 3\n",
        "\\end{pmatrix}\\begin{pmatrix}\n",
        "3\\\\-3\\\\-4\n",
        "\\end{pmatrix}=\\begin{pmatrix}\n",
        "-9\\\\ \n",
        "9\\\\\n",
        "-12\n",
        "\\end{pmatrix}.$$\n",
        "\n",
        "Полученные вектор не можем получить, умножим исходный на любое действительно число. Таким образом, вектор $x$ __не__ является собственным для матрицы $A$."
      ]
    },
    {
      "cell_type": "code",
      "metadata": {
        "id": "ReuimIRdAhfY",
        "colab_type": "code",
        "colab": {
          "base_uri": "https://localhost:8080/",
          "height": 36
        },
        "outputId": "0e32c506-89e0-435b-ebad-3e5931c54acb"
      },
      "source": [
        "a = np.array([[0, 3, 0], [3, 0, 0], [0, 0, 3]])\n",
        "x = np.array([3, -3, -4])\n",
        "\n",
        "print(a@x)"
      ],
      "execution_count": 9,
      "outputs": [
        {
          "output_type": "stream",
          "text": [
            "[ -9   9 -12]\n"
          ],
          "name": "stdout"
        }
      ]
    }
  ]
}